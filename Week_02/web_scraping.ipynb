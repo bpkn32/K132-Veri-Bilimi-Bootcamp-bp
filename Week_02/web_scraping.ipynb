{
 "cells": [
  {
   "cell_type": "code",
   "execution_count": 16,
   "metadata": {},
   "outputs": [],
   "source": [
    "from bs4 import BeautifulSoup\n",
    "import requests\n",
    "import pandas as pd\n",
    "import numpy as np"
   ]
  },
  {
   "cell_type": "code",
   "execution_count": 4,
   "metadata": {},
   "outputs": [],
   "source": [
    "url_wiki_2015 = \"https://en.wikipedia.org/wiki/List_of_American_films_of_2015\"\n",
    "url_wiki_2016 = \"https://en.wikipedia.org/wiki/List_of_American_films_of_2016\"\n",
    "url_wiki_2017 = \"https://en.wikipedia.org/wiki/List_of_American_films_of_2017\"\n",
    "url_wiki_2018 = \"https://en.wikipedia.org/wiki/List_of_American_films_of_2018\"\n",
    "url_wiki_2019 = \"https://en.wikipedia.org/wiki/List_of_American_films_of_2019\"\n",
    "url_wiki_2020 = \"https://en.wikipedia.org/wiki/List_of_American_films_of_2020\"\n",
    "url_list = [url_wiki_2015,url_wiki_2016,url_wiki_2017,url_wiki_2018,url_wiki_2019,url_wiki_2020]"
   ]
  },
  {
   "cell_type": "code",
   "execution_count": 5,
   "metadata": {},
   "outputs": [],
   "source": [
    "first_movies_2015 = [\"The Woman in Black: Angel of Death\",\"Furious 7\",\"Terminator Genisys\",\"The Martian\"]\n",
    "first_movies_2016 = [\"The Forest\",\"God's Not Dead 2\",\"The Legend of Tarzan\",\"The Girl on the Train\"]\n",
    "first_movies_2017 = [\"Underworld: Blood Wars\",\"The Case for Christ\",\"A Ghost Story\",\"Blade Runner 2049\"]\n",
    "first_movies_2018 = [\"Insidious: The Last Key\",\"A Quiet Place\",\"The First Purge\",\"Power of the Air\"]\n",
    "first_movies_2019 = [\"Escape Room\",\"Shazam!\",\"Spider-Man: Far From Home\",\"Joker\"]\n",
    "first_movies_2020 = [\"The Grudge\",\"Coffee & Kareem\",\"Hamilton\",\"On the Rocks\"]\n",
    "first_movies = [first_movies_2015,first_movies_2016,first_movies_2017,first_movies_2018,first_movies_2019,first_movies_2020]"
   ]
  },
  {
   "cell_type": "code",
   "execution_count": 6,
   "metadata": {},
   "outputs": [],
   "source": [
    "df = pd.DataFrame()\n",
    "for url in url_list:\n",
    "    for movies in first_movies:\n",
    "        for movie in movies:\n",
    "            response = requests.get(url)\n",
    "            bs = BeautifulSoup(response.text,\"html.parser\")\n",
    "            table_heading = bs.find('td', text=movie)      \n",
    "            if table_heading:\n",
    "                table = table_heading.find_parents(\"table\")\n",
    "                df_ = pd.read_html(str(table))\n",
    "                df_ = df_[0]\n",
    "                df = pd.concat([df,df_],ignore_index=True)"
   ]
  },
  {
   "cell_type": "code",
   "execution_count": 7,
   "metadata": {
    "scrolled": true
   },
   "outputs": [
    {
     "data": {
      "text/html": [
       "<div>\n",
       "<style scoped>\n",
       "    .dataframe tbody tr th:only-of-type {\n",
       "        vertical-align: middle;\n",
       "    }\n",
       "\n",
       "    .dataframe tbody tr th {\n",
       "        vertical-align: top;\n",
       "    }\n",
       "\n",
       "    .dataframe thead th {\n",
       "        text-align: right;\n",
       "    }\n",
       "</style>\n",
       "<table border=\"1\" class=\"dataframe\">\n",
       "  <thead>\n",
       "    <tr style=\"text-align: right;\">\n",
       "      <th></th>\n",
       "      <th>Opening</th>\n",
       "      <th>Opening.1</th>\n",
       "      <th>Title</th>\n",
       "      <th>Production company</th>\n",
       "      <th>Cast and crew</th>\n",
       "      <th>.mw-parser-output .tooltip-dotted{border-bottom:1px dotted;cursor:help}Ref.</th>\n",
       "      <th>Ref.</th>\n",
       "    </tr>\n",
       "  </thead>\n",
       "  <tbody>\n",
       "    <tr>\n",
       "      <th>0</th>\n",
       "      <td>JANUARY</td>\n",
       "      <td>2.0</td>\n",
       "      <td>The Woman in Black: Angel of Death</td>\n",
       "      <td>Relativity Media</td>\n",
       "      <td>Tom Harper (director); Jon Croker (screenplay)...</td>\n",
       "      <td>[12]</td>\n",
       "      <td>NaN</td>\n",
       "    </tr>\n",
       "    <tr>\n",
       "      <th>1</th>\n",
       "      <td>JANUARY</td>\n",
       "      <td>9.0</td>\n",
       "      <td>Taken 3</td>\n",
       "      <td>20th Century Fox</td>\n",
       "      <td>Olivier Megaton (director); Luc Besson, Robert...</td>\n",
       "      <td>[13]</td>\n",
       "      <td>NaN</td>\n",
       "    </tr>\n",
       "    <tr>\n",
       "      <th>2</th>\n",
       "      <td>JANUARY</td>\n",
       "      <td>9.0</td>\n",
       "      <td>Let's Kill Ward's Wife</td>\n",
       "      <td>Well Go USA Entertainment</td>\n",
       "      <td>Scott Foley (director/screenplay); Patrick Wil...</td>\n",
       "      <td>[14]</td>\n",
       "      <td>NaN</td>\n",
       "    </tr>\n",
       "    <tr>\n",
       "      <th>3</th>\n",
       "      <td>JANUARY</td>\n",
       "      <td>14.0</td>\n",
       "      <td>Match</td>\n",
       "      <td>IFC Films</td>\n",
       "      <td>Stephen Belber (director/screenplay); Patrick ...</td>\n",
       "      <td>[15]</td>\n",
       "      <td>NaN</td>\n",
       "    </tr>\n",
       "    <tr>\n",
       "      <th>4</th>\n",
       "      <td>JANUARY</td>\n",
       "      <td>16.0</td>\n",
       "      <td>Blackhat</td>\n",
       "      <td>Universal Pictures</td>\n",
       "      <td>Michael Mann (director); Morgan Davis Foehl (s...</td>\n",
       "      <td>[16]</td>\n",
       "      <td>NaN</td>\n",
       "    </tr>\n",
       "  </tbody>\n",
       "</table>\n",
       "</div>"
      ],
      "text/plain": [
       "   Opening  Opening.1                               Title  \\\n",
       "0  JANUARY        2.0  The Woman in Black: Angel of Death   \n",
       "1  JANUARY        9.0                             Taken 3   \n",
       "2  JANUARY        9.0              Let's Kill Ward's Wife   \n",
       "3  JANUARY       14.0                               Match   \n",
       "4  JANUARY       16.0                            Blackhat   \n",
       "\n",
       "          Production company  \\\n",
       "0           Relativity Media   \n",
       "1           20th Century Fox   \n",
       "2  Well Go USA Entertainment   \n",
       "3                  IFC Films   \n",
       "4         Universal Pictures   \n",
       "\n",
       "                                       Cast and crew  \\\n",
       "0  Tom Harper (director); Jon Croker (screenplay)...   \n",
       "1  Olivier Megaton (director); Luc Besson, Robert...   \n",
       "2  Scott Foley (director/screenplay); Patrick Wil...   \n",
       "3  Stephen Belber (director/screenplay); Patrick ...   \n",
       "4  Michael Mann (director); Morgan Davis Foehl (s...   \n",
       "\n",
       "  .mw-parser-output .tooltip-dotted{border-bottom:1px dotted;cursor:help}Ref.  \\\n",
       "0                                               [12]                            \n",
       "1                                               [13]                            \n",
       "2                                               [14]                            \n",
       "3                                               [15]                            \n",
       "4                                               [16]                            \n",
       "\n",
       "  Ref.  \n",
       "0  NaN  \n",
       "1  NaN  \n",
       "2  NaN  \n",
       "3  NaN  \n",
       "4  NaN  "
      ]
     },
     "execution_count": 7,
     "metadata": {},
     "output_type": "execute_result"
    }
   ],
   "source": [
    "df.head()"
   ]
  },
  {
   "cell_type": "code",
   "execution_count": 8,
   "metadata": {},
   "outputs": [],
   "source": [
    "df.drop([\"Opening\",\"Opening.1\",\".mw-parser-output .tooltip-dotted{border-bottom:1px dotted;cursor:help}Ref.\",\"Ref.\"],axis=1,inplace=True)"
   ]
  },
  {
   "cell_type": "code",
   "execution_count": 9,
   "metadata": {
    "scrolled": false
   },
   "outputs": [
    {
     "data": {
      "text/html": [
       "<div>\n",
       "<style scoped>\n",
       "    .dataframe tbody tr th:only-of-type {\n",
       "        vertical-align: middle;\n",
       "    }\n",
       "\n",
       "    .dataframe tbody tr th {\n",
       "        vertical-align: top;\n",
       "    }\n",
       "\n",
       "    .dataframe thead th {\n",
       "        text-align: right;\n",
       "    }\n",
       "</style>\n",
       "<table border=\"1\" class=\"dataframe\">\n",
       "  <thead>\n",
       "    <tr style=\"text-align: right;\">\n",
       "      <th></th>\n",
       "      <th>Title</th>\n",
       "      <th>Production company</th>\n",
       "      <th>Cast and crew</th>\n",
       "    </tr>\n",
       "  </thead>\n",
       "  <tbody>\n",
       "    <tr>\n",
       "      <th>0</th>\n",
       "      <td>The Woman in Black: Angel of Death</td>\n",
       "      <td>Relativity Media</td>\n",
       "      <td>Tom Harper (director); Jon Croker (screenplay)...</td>\n",
       "    </tr>\n",
       "    <tr>\n",
       "      <th>1</th>\n",
       "      <td>Taken 3</td>\n",
       "      <td>20th Century Fox</td>\n",
       "      <td>Olivier Megaton (director); Luc Besson, Robert...</td>\n",
       "    </tr>\n",
       "    <tr>\n",
       "      <th>2</th>\n",
       "      <td>Let's Kill Ward's Wife</td>\n",
       "      <td>Well Go USA Entertainment</td>\n",
       "      <td>Scott Foley (director/screenplay); Patrick Wil...</td>\n",
       "    </tr>\n",
       "    <tr>\n",
       "      <th>3</th>\n",
       "      <td>Match</td>\n",
       "      <td>IFC Films</td>\n",
       "      <td>Stephen Belber (director/screenplay); Patrick ...</td>\n",
       "    </tr>\n",
       "    <tr>\n",
       "      <th>4</th>\n",
       "      <td>Blackhat</td>\n",
       "      <td>Universal Pictures</td>\n",
       "      <td>Michael Mann (director); Morgan Davis Foehl (s...</td>\n",
       "    </tr>\n",
       "  </tbody>\n",
       "</table>\n",
       "</div>"
      ],
      "text/plain": [
       "                                Title         Production company  \\\n",
       "0  The Woman in Black: Angel of Death           Relativity Media   \n",
       "1                             Taken 3           20th Century Fox   \n",
       "2              Let's Kill Ward's Wife  Well Go USA Entertainment   \n",
       "3                               Match                  IFC Films   \n",
       "4                            Blackhat         Universal Pictures   \n",
       "\n",
       "                                       Cast and crew  \n",
       "0  Tom Harper (director); Jon Croker (screenplay)...  \n",
       "1  Olivier Megaton (director); Luc Besson, Robert...  \n",
       "2  Scott Foley (director/screenplay); Patrick Wil...  \n",
       "3  Stephen Belber (director/screenplay); Patrick ...  \n",
       "4  Michael Mann (director); Morgan Davis Foehl (s...  "
      ]
     },
     "execution_count": 9,
     "metadata": {},
     "output_type": "execute_result"
    }
   ],
   "source": [
    "df.head()"
   ]
  },
  {
   "cell_type": "markdown",
   "metadata": {},
   "source": [
    "which rows has any missing value in at least one column?"
   ]
  },
  {
   "cell_type": "code",
   "execution_count": 10,
   "metadata": {},
   "outputs": [
    {
     "data": {
      "text/html": [
       "<div>\n",
       "<style scoped>\n",
       "    .dataframe tbody tr th:only-of-type {\n",
       "        vertical-align: middle;\n",
       "    }\n",
       "\n",
       "    .dataframe tbody tr th {\n",
       "        vertical-align: top;\n",
       "    }\n",
       "\n",
       "    .dataframe thead th {\n",
       "        text-align: right;\n",
       "    }\n",
       "</style>\n",
       "<table border=\"1\" class=\"dataframe\">\n",
       "  <thead>\n",
       "    <tr style=\"text-align: right;\">\n",
       "      <th></th>\n",
       "      <th>Title</th>\n",
       "      <th>Production company</th>\n",
       "      <th>Cast and crew</th>\n",
       "    </tr>\n",
       "  </thead>\n",
       "  <tbody>\n",
       "    <tr>\n",
       "      <th>192</th>\n",
       "      <td>NaN</td>\n",
       "      <td>NaN</td>\n",
       "      <td>NaN</td>\n",
       "    </tr>\n",
       "    <tr>\n",
       "      <th>193</th>\n",
       "      <td>NaN</td>\n",
       "      <td>NaN</td>\n",
       "      <td>NaN</td>\n",
       "    </tr>\n",
       "    <tr>\n",
       "      <th>238</th>\n",
       "      <td>NaN</td>\n",
       "      <td>NaN</td>\n",
       "      <td>NaN</td>\n",
       "    </tr>\n",
       "    <tr>\n",
       "      <th>239</th>\n",
       "      <td>NaN</td>\n",
       "      <td>NaN</td>\n",
       "      <td>NaN</td>\n",
       "    </tr>\n",
       "    <tr>\n",
       "      <th>281</th>\n",
       "      <td>NaN</td>\n",
       "      <td>NaN</td>\n",
       "      <td>NaN</td>\n",
       "    </tr>\n",
       "  </tbody>\n",
       "</table>\n",
       "</div>"
      ],
      "text/plain": [
       "    Title Production company Cast and crew\n",
       "192   NaN                NaN           NaN\n",
       "193   NaN                NaN           NaN\n",
       "238   NaN                NaN           NaN\n",
       "239   NaN                NaN           NaN\n",
       "281   NaN                NaN           NaN"
      ]
     },
     "execution_count": 10,
     "metadata": {},
     "output_type": "execute_result"
    }
   ],
   "source": [
    "df[df.isnull().any(axis=1)]"
   ]
  },
  {
   "cell_type": "code",
   "execution_count": 11,
   "metadata": {},
   "outputs": [],
   "source": [
    "df.drop([192,193,238,239,281],axis = 0,inplace = True)"
   ]
  },
  {
   "cell_type": "code",
   "execution_count": 12,
   "metadata": {},
   "outputs": [],
   "source": [
    "df.reset_index(inplace=True)"
   ]
  },
  {
   "cell_type": "code",
   "execution_count": 13,
   "metadata": {},
   "outputs": [
    {
     "data": {
      "text/html": [
       "<div>\n",
       "<style scoped>\n",
       "    .dataframe tbody tr th:only-of-type {\n",
       "        vertical-align: middle;\n",
       "    }\n",
       "\n",
       "    .dataframe tbody tr th {\n",
       "        vertical-align: top;\n",
       "    }\n",
       "\n",
       "    .dataframe thead th {\n",
       "        text-align: right;\n",
       "    }\n",
       "</style>\n",
       "<table border=\"1\" class=\"dataframe\">\n",
       "  <thead>\n",
       "    <tr style=\"text-align: right;\">\n",
       "      <th></th>\n",
       "      <th>Title</th>\n",
       "      <th>Production company</th>\n",
       "      <th>Cast and crew</th>\n",
       "    </tr>\n",
       "  </thead>\n",
       "  <tbody>\n",
       "    <tr>\n",
       "      <th>0</th>\n",
       "      <td>The Woman in Black: Angel of Death</td>\n",
       "      <td>Relativity Media</td>\n",
       "      <td>Tom Harper (director); Jon Croker (screenplay)...</td>\n",
       "    </tr>\n",
       "    <tr>\n",
       "      <th>1</th>\n",
       "      <td>Taken 3</td>\n",
       "      <td>20th Century Fox</td>\n",
       "      <td>Olivier Megaton (director); Luc Besson, Robert...</td>\n",
       "    </tr>\n",
       "    <tr>\n",
       "      <th>2</th>\n",
       "      <td>Let's Kill Ward's Wife</td>\n",
       "      <td>Well Go USA Entertainment</td>\n",
       "      <td>Scott Foley (director/screenplay); Patrick Wil...</td>\n",
       "    </tr>\n",
       "    <tr>\n",
       "      <th>3</th>\n",
       "      <td>Match</td>\n",
       "      <td>IFC Films</td>\n",
       "      <td>Stephen Belber (director/screenplay); Patrick ...</td>\n",
       "    </tr>\n",
       "    <tr>\n",
       "      <th>4</th>\n",
       "      <td>Blackhat</td>\n",
       "      <td>Universal Pictures</td>\n",
       "      <td>Michael Mann (director); Morgan Davis Foehl (s...</td>\n",
       "    </tr>\n",
       "    <tr>\n",
       "      <th>...</th>\n",
       "      <td>...</td>\n",
       "      <td>...</td>\n",
       "      <td>...</td>\n",
       "    </tr>\n",
       "    <tr>\n",
       "      <th>1257</th>\n",
       "      <td>We Can Be Heroes</td>\n",
       "      <td>Netflix / Troublemaker Studios</td>\n",
       "      <td>Robert Rodriguez (director/screenplay); Priyan...</td>\n",
       "    </tr>\n",
       "    <tr>\n",
       "      <th>1258</th>\n",
       "      <td>News of the World</td>\n",
       "      <td>Universal Pictures / Perfect World Pictures</td>\n",
       "      <td>Paul Greengrass (director/screenplay); Luke Da...</td>\n",
       "    </tr>\n",
       "    <tr>\n",
       "      <th>1259</th>\n",
       "      <td>One Night in Miami...</td>\n",
       "      <td>Amazon Studios</td>\n",
       "      <td>Regina King (director); Kemp Powers (screenpla...</td>\n",
       "    </tr>\n",
       "    <tr>\n",
       "      <th>1260</th>\n",
       "      <td>Promising Young Woman</td>\n",
       "      <td>Focus Features / FilmNation Entertainment</td>\n",
       "      <td>Emerald Fennell (director/screenplay); Carey M...</td>\n",
       "    </tr>\n",
       "    <tr>\n",
       "      <th>1261</th>\n",
       "      <td>Pieces of a Woman</td>\n",
       "      <td>Netflix / Bron Studios</td>\n",
       "      <td>Kornél Mundruczó (director); Kata Wéber (scree...</td>\n",
       "    </tr>\n",
       "  </tbody>\n",
       "</table>\n",
       "<p>1262 rows × 3 columns</p>\n",
       "</div>"
      ],
      "text/plain": [
       "                                   Title  \\\n",
       "0     The Woman in Black: Angel of Death   \n",
       "1                                Taken 3   \n",
       "2                 Let's Kill Ward's Wife   \n",
       "3                                  Match   \n",
       "4                               Blackhat   \n",
       "...                                  ...   \n",
       "1257                    We Can Be Heroes   \n",
       "1258                   News of the World   \n",
       "1259               One Night in Miami...   \n",
       "1260               Promising Young Woman   \n",
       "1261                   Pieces of a Woman   \n",
       "\n",
       "                               Production company  \\\n",
       "0                                Relativity Media   \n",
       "1                                20th Century Fox   \n",
       "2                       Well Go USA Entertainment   \n",
       "3                                       IFC Films   \n",
       "4                              Universal Pictures   \n",
       "...                                           ...   \n",
       "1257               Netflix / Troublemaker Studios   \n",
       "1258  Universal Pictures / Perfect World Pictures   \n",
       "1259                               Amazon Studios   \n",
       "1260    Focus Features / FilmNation Entertainment   \n",
       "1261                       Netflix / Bron Studios   \n",
       "\n",
       "                                          Cast and crew  \n",
       "0     Tom Harper (director); Jon Croker (screenplay)...  \n",
       "1     Olivier Megaton (director); Luc Besson, Robert...  \n",
       "2     Scott Foley (director/screenplay); Patrick Wil...  \n",
       "3     Stephen Belber (director/screenplay); Patrick ...  \n",
       "4     Michael Mann (director); Morgan Davis Foehl (s...  \n",
       "...                                                 ...  \n",
       "1257  Robert Rodriguez (director/screenplay); Priyan...  \n",
       "1258  Paul Greengrass (director/screenplay); Luke Da...  \n",
       "1259  Regina King (director); Kemp Powers (screenpla...  \n",
       "1260  Emerald Fennell (director/screenplay); Carey M...  \n",
       "1261  Kornél Mundruczó (director); Kata Wéber (scree...  \n",
       "\n",
       "[1262 rows x 3 columns]"
      ]
     },
     "execution_count": 13,
     "metadata": {},
     "output_type": "execute_result"
    }
   ],
   "source": [
    "df.drop(\"index\",axis=1)"
   ]
  },
  {
   "cell_type": "code",
   "execution_count": 61,
   "metadata": {},
   "outputs": [],
   "source": [
    "numbers_2015 = \"https://www.the-numbers.com/market/2015/top-grossing-movies\"\n",
    "numbers_2016 = \"https://www.the-numbers.com/market/2016/top-grossing-movies\"\n",
    "numbers_2017 = \"https://www.the-numbers.com/market/2017/top-grossing-movies\"\n",
    "numbers_2018 = \"https://www.the-numbers.com/market/2018/top-grossing-movies\"\n",
    "numbers_2019 = \"https://www.the-numbers.com/market/2019/top-grossing-movies\"\n",
    "numbers_2020 = \"https://www.the-numbers.com/market/2020/top-grossing-movies\"\n",
    "numbers_list = [numbers_2015,numbers_2016,numbers_2017,numbers_2018,numbers_2019,numbers_2020]\n",
    "first_movies2 = [\"Star Wars Ep. VII: The Forc…\",\"Finding Dory\",\"Star Wars Ep. VIII: The Las…\",\"Black Panther\",\"Avengers: Endgame\",\"Bad Boys For Life\"]\n",
    "pairs = list(zip(numbers_list,first_movies2))"
   ]
  },
  {
   "cell_type": "code",
   "execution_count": 9,
   "metadata": {},
   "outputs": [],
   "source": [
    "df2 = pd.DataFrame()\n",
    "for pair in pairs:\n",
    "    url,movie = pair[0],pair[1]\n",
    "    response = requests.get(url)\n",
    "    bs = BeautifulSoup(response.text)\n",
    "    table_heading = bs.find('td', text=movie)      \n",
    "    if table_heading:\n",
    "        table = table_heading.find_parents(\"table\")\n",
    "        df_2 = pd.read_html(str(table))\n",
    "        df_2 = df_2[0]\n",
    "        df2 = pd.concat([df2,df_2],ignore_index=True)\n",
    "\n"
   ]
  },
  {
   "cell_type": "code",
   "execution_count": null,
   "metadata": {},
   "outputs": [],
   "source": [
    "df2.drop_duplicates(keep=\"first\",inplace = True)"
   ]
  },
  {
   "cell_type": "code",
   "execution_count": null,
   "metadata": {},
   "outputs": [],
   "source": [
    "df2[\"Title\"] = df2[\"Movie\"]\n",
    "df2.drop(\"Movie\",axis=1,inplace=True)"
   ]
  },
  {
   "cell_type": "code",
   "execution_count": null,
   "metadata": {},
   "outputs": [],
   "source": [
    "data = pd.merge(df,df2,on=\"Title\",how = \"inner\")"
   ]
  },
  {
   "cell_type": "code",
   "execution_count": null,
   "metadata": {},
   "outputs": [],
   "source": [
    "for i in data[data[[\"Title\",\"Production company\",\"Cast and crew\",\"Rank\",\"ReleaseDate\",\"Distributor\",\"Genre\"]].isnull().any(axis=1)].index:\n",
    "    data.drop(i,axis=0,inplace=True)"
   ]
  },
  {
   "cell_type": "code",
   "execution_count": null,
   "metadata": {},
   "outputs": [],
   "source": [
    "gross_columns = [\"2015 Gross\",\"2016 Gross\",\"2017 Gross\",\"2018 Gross\",\"2019 Gross\",\"2020 Gross\"]"
   ]
  },
  {
   "cell_type": "code",
   "execution_count": null,
   "metadata": {},
   "outputs": [],
   "source": [
    "for column in gross_columns:\n",
    "    data[column] = data[column].str.replace(\"$\",\"\")\n",
    "    data[column] = data[column].str.replace(\",\",\"\")"
   ]
  },
  {
   "cell_type": "code",
   "execution_count": null,
   "metadata": {},
   "outputs": [],
   "source": [
    "for column in gross_columns:\n",
    "    data[column] = pd.to_numeric(data[column])"
   ]
  },
  {
   "cell_type": "code",
   "execution_count": null,
   "metadata": {},
   "outputs": [],
   "source": [
    "data.fillna(0,inplace=True)\n",
    "data[\"Release Year Gross\"] = data[\"2015 Gross\"]+data[\"2016 Gross\"]+data[\"2017 Gross\"]+data[\"2018 Gross\"]+data[\"2019 Gross\"]+data[\"2020 Gross\"]"
   ]
  },
  {
   "cell_type": "code",
   "execution_count": null,
   "metadata": {},
   "outputs": [],
   "source": [
    "data.drop([\"index\",\"Distributor\",\"2015 Gross\",\"2016 Gross\",\"2017 Gross\",\"2018 Gross\",\"2019 Gross\",\"2020 Gross\"],axis=1,inplace = True)"
   ]
  },
  {
   "cell_type": "code",
   "execution_count": null,
   "metadata": {},
   "outputs": [],
   "source": [
    "data[data[\"Genre\"]==\"Documentary\"]"
   ]
  },
  {
   "cell_type": "code",
   "execution_count": null,
   "metadata": {},
   "outputs": [],
   "source": [
    "data[\"ReleaseYear\"] = data[\"ReleaseDate\"].apply(lambda x: x.split(\",\")[1]).astype(int)"
   ]
  },
  {
   "cell_type": "code",
   "execution_count": null,
   "metadata": {},
   "outputs": [],
   "source": [
    "data.drop(\"ReleaseDate\",axis=1,inplace=True)"
   ]
  },
  {
   "cell_type": "code",
   "execution_count": null,
   "metadata": {
    "scrolled": true
   },
   "outputs": [],
   "source": [
    "data[\"Director\"] = data.apply(lambda x: x['Cast and crew'][0:x['Cast and crew'].find(';')],axis=1)"
   ]
  },
  {
   "cell_type": "code",
   "execution_count": 65,
   "metadata": {},
   "outputs": [],
   "source": [
    "data = data[~data[\"Title\"].duplicated(keep=\"first\")]"
   ]
  },
  {
   "cell_type": "code",
   "execution_count": null,
   "metadata": {},
   "outputs": [],
   "source": [
    "data.to_csv(\"C:/Users/Brotial Art/Desktop/movie_rankings.csv\")"
   ]
  },
  {
   "cell_type": "markdown",
   "metadata": {},
   "source": [
    "Below I tried to generate 3 new feautures for my data. One is director attribute, second is screenplay attribute and the third is cast attribute but I could not find such a way to seperate these texts. If you do,please contact me."
   ]
  },
  {
   "cell_type": "code",
   "execution_count": 47,
   "metadata": {},
   "outputs": [],
   "source": [
    "\"\"\"director = list()\n",
    "screenplay = list()\n",
    "cast = list()\n",
    "\n",
    "for cast_crew in data[\"Cast and crew\"]:\n",
    "    cast_crew = cast_crew.split(\";\")\n",
    "    for i in cast_crew:\n",
    "        if \"(director\" in i:\n",
    "            director.append(i)\n",
    "        elif \"screenplay)\" in i:\n",
    "            screenplay.append(i)\n",
    "        else:\n",
    "            cast.append(i)\"\"\""
   ]
  }
 ],
 "metadata": {
  "kernelspec": {
   "display_name": "Python 3 (ipykernel)",
   "language": "python",
   "name": "python3"
  },
  "language_info": {
   "codemirror_mode": {
    "name": "ipython",
    "version": 3
   },
   "file_extension": ".py",
   "mimetype": "text/x-python",
   "name": "python",
   "nbconvert_exporter": "python",
   "pygments_lexer": "ipython3",
   "version": "3.8.5"
  }
 },
 "nbformat": 4,
 "nbformat_minor": 4
}
